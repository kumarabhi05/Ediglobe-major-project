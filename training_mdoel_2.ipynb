{
  "cells": [
    {
      "cell_type": "code",
      "execution_count": 2,
      "metadata": {
        "id": "8lwSKAHczUwQ"
      },
      "outputs": [],
      "source": [
        "import pandas as pd\n",
        "import numpy as np\n",
        "import matplotlib.pyplot as plt\n",
        "from sklearn.model_selection import train_test_split, RandomizedSearchCV\n",
        "from sklearn.preprocessing import StandardScaler, OneHotEncoder\n",
        "from sklearn.compose import ColumnTransformer\n",
        "from sklearn.pipeline import Pipeline\n",
        "from sklearn.impute import SimpleImputer\n",
        "from sklearn.ensemble import RandomForestRegressor, HistGradientBoostingRegressor\n",
        "from sklearn.metrics import mean_squared_error, mean_absolute_error, r2_score\n",
        "from scipy import stats\n",
        "import joblib\n",
        "import warnings\n",
        "warnings.filterwarnings(\"ignore\")"
      ]
    },
    {
      "cell_type": "code",
      "execution_count": 17,
      "metadata": {
        "colab": {
          "base_uri": "https://localhost:8080/"
        },
        "id": "mqLUuXyl9aEO",
        "outputId": "8d0dd0ee-1cdf-4022-f7a6-17e5acf53e89"
      },
      "outputs": [
        {
          "name": "stdout",
          "output_type": "stream",
          "text": [
            "(909604, 16)\n",
            "['timestamp', 'active_power_calculated_by_converter', 'active_power_raw', 'ambient_temperature', 'generator_speed', 'generator_winding_temp_max', 'grid_power10min_average', 'nc1_inside_temp', 'nacelle_temp', 'reactice_power_calculated_by_converter', 'reactive_power', 'wind_direction_raw', 'wind_speed_raw', 'wind_speed_turbulence', 'turbine_id', 'Target']\n",
            "             timestamp  active_power_calculated_by_converter  \\\n",
            "0  2021-02-19 20:18:00                            816.636759   \n",
            "1  2021-04-27 04:55:00                            419.107829   \n",
            "\n",
            "   active_power_raw  ambient_temperature  generator_speed  \\\n",
            "0        834.917206            31.694380      1159.616602   \n",
            "1        421.050873            12.894948       928.747996   \n",
            "\n",
            "   generator_winding_temp_max  grid_power10min_average  nc1_inside_temp  \\\n",
            "0                   65.954214               917.897085        31.881972   \n",
            "1                   59.571319               445.554250        32.423705   \n",
            "\n",
            "   nacelle_temp  reactice_power_calculated_by_converter  reactive_power  \\\n",
            "0     31.504713                              141.457644      165.501518   \n",
            "1     32.755770                               89.186457      113.835236   \n",
            "\n",
            "   wind_direction_raw  wind_speed_raw  wind_speed_turbulence   turbine_id  \\\n",
            "0          280.864782        7.057000               0.544082  Turbine_108   \n",
            "1          299.552460        5.474937               0.469031   Turbine_18   \n",
            "\n",
            "      Target  \n",
            "0  47.582787  \n",
            "1  46.070328  \n"
          ]
        }
      ],
      "source": [
        "df = pd.read_csv(\"train.csv\")\n",
        "print(df.shape)\n",
        "print(df.columns.tolist())\n",
        "print(df.head(2))"
      ]
    },
    {
      "cell_type": "code",
      "execution_count": 18,
      "metadata": {
        "id": "6tC0fSFd_y6S"
      },
      "outputs": [],
      "source": [
        "target = \"Target\"\n",
        "y = df[target]\n",
        "X = df.drop(columns=[target])\n"
      ]
    },
    {
      "cell_type": "code",
      "execution_count": 19,
      "metadata": {
        "colab": {
          "base_uri": "https://localhost:8080/"
        },
        "id": "U4PoczBp-y5Y",
        "outputId": "c7c8eee4-6f06-4725-8b23-004f601c9714"
      },
      "outputs": [
        {
          "name": "stdout",
          "output_type": "stream",
          "text": [
            "             timestamp  active_power_calculated_by_converter  \\\n",
            "0  2021-02-19 20:18:00                            816.636759   \n",
            "1  2021-04-27 04:55:00                            419.107829   \n",
            "\n",
            "   active_power_raw  ambient_temperature  generator_speed  \\\n",
            "0        834.917206            31.694380      1159.616602   \n",
            "1        421.050873            12.894948       928.747996   \n",
            "\n",
            "   generator_winding_temp_max  grid_power10min_average  nc1_inside_temp  \\\n",
            "0                   65.954214               917.897085        31.881972   \n",
            "1                   59.571319               445.554250        32.423705   \n",
            "\n",
            "   nacelle_temp  reactice_power_calculated_by_converter  reactive_power  \\\n",
            "0     31.504713                              141.457644      165.501518   \n",
            "1     32.755770                               89.186457      113.835236   \n",
            "\n",
            "   wind_direction_raw  wind_speed_raw  wind_speed_turbulence   turbine_id  \\\n",
            "0          280.864782        7.057000               0.544082  Turbine_108   \n",
            "1          299.552460        5.474937               0.469031   Turbine_18   \n",
            "\n",
            "      Target  \n",
            "0  47.582787  \n",
            "1  46.070328  \n",
            "Target sample: 0    47.582787\n",
            "1    46.070328\n",
            "2    39.989236\n",
            "Name: Target, dtype: float64\n"
          ]
        }
      ],
      "source": [
        "print(df.head(2))\n",
        "print(\"Target sample:\", y.head(3))\n"
      ]
    },
    {
      "cell_type": "code",
      "execution_count": 20,
      "metadata": {
        "id": "sDkWE5Q35H9g"
      },
      "outputs": [],
      "source": [
        "# 3️⃣ Feature engineering\n",
        "# --- Time-based ---\n",
        "X[\"timestamp\"] = pd.to_datetime(X[\"timestamp\"], errors=\"coerce\")\n",
        "X[\"hour\"] = X[\"timestamp\"].dt.hour\n",
        "X[\"dayofyear\"] = X[\"timestamp\"].dt.dayofyear\n",
        "X[\"hour_sin\"] = np.sin(2 * np.pi * X[\"hour\"] / 24)\n",
        "X[\"hour_cos\"] = np.cos(2 * np.pi * X[\"hour\"] / 24)\n",
        "X[\"day_sin\"] = np.sin(2 * np.pi * X[\"dayofyear\"] / 365)\n",
        "X[\"day_cos\"] = np.cos(2 * np.pi * X[\"dayofyear\"] / 365)\n",
        "\n",
        "# --- Physics-based ---\n",
        "X[\"wind_speed_sq\"] = X[\"wind_speed_raw\"] ** 2\n",
        "X[\"wind_speed_cu\"] = X[\"wind_speed_raw\"] ** 3\n",
        "X[\"power_coefficient\"] = X[\"active_power_raw\"] / (X[\"wind_speed_raw\"]**3 + 1e-6)\n",
        "\n",
        "# --- Thermal / efficiency ---\n",
        "X[\"temp_diff_nacelle_ambient\"] = X[\"nacelle_temp\"] - X[\"ambient_temperature\"]\n",
        "X[\"temp_diff_generator_ambient\"] = X[\"generator_winding_temp_max\"] - X[\"ambient_temperature\"]\n",
        "X[\"avg_internal_temp\"] = (X[\"nacelle_temp\"] + X[\"nc1_inside_temp\"]) / 2\n",
        "\n"
      ]
    },
    {
      "cell_type": "code",
      "execution_count": 21,
      "metadata": {
        "colab": {
          "base_uri": "https://localhost:8080/"
        },
        "id": "fQYO10Wv5UWL",
        "outputId": "33c6017d-be87-4d1d-c251-31c12d85bd24"
      },
      "outputs": [
        {
          "name": "stdout",
          "output_type": "stream",
          "text": [
            "🔧 Features after engineering: 29\n"
          ]
        }
      ],
      "source": [
        "# --- Interaction features ---\n",
        "X[\"wind_times_gen\"] = X[\"wind_speed_raw\"] * X[\"generator_speed\"]\n",
        "X[\"wind_temp_ratio\"] = X[\"wind_speed_raw\"] / (X[\"ambient_temperature\"] + 273.15)\n",
        "\n",
        "# --- Turbine encoding ---\n",
        "X[\"turbine_id\"] = X[\"turbine_id\"].astype(str)\n",
        "X[\"turbine_code\"] = pd.factorize(X[\"turbine_id\"])[0]\n",
        "\n",
        "# Drop raw timestamp column (we extracted features)\n",
        "X = X.drop(columns=[\"timestamp\"])\n",
        "\n",
        "print(\"🔧 Features after engineering:\", len(X.columns))"
      ]
    },
    {
      "cell_type": "code",
      "execution_count": 22,
      "metadata": {
        "colab": {
          "base_uri": "https://localhost:8080/"
        },
        "id": "zyLVe57g5VfS",
        "outputId": "3f7977be-6d42-446d-ade5-b59d99a32fda"
      },
      "outputs": [
        {
          "name": "stdout",
          "output_type": "stream",
          "text": [
            "Train: (727683, 29) Test: (181921, 29)\n"
          ]
        }
      ],
      "source": [
        "# 4️⃣ Train/test split\n",
        "X_train, X_test, y_train, y_test = train_test_split(X, y, test_size=0.2, random_state=42)\n",
        "print(\"Train:\", X_train.shape, \"Test:\", X_test.shape)"
      ]
    },
    {
      "cell_type": "code",
      "execution_count": 24,
      "metadata": {
        "id": "WDWbH1Uz5oc3"
      },
      "outputs": [],
      "source": [
        "# 5️⃣ Preprocessing pipelines\n",
        "numeric_features = X_train.select_dtypes(include=[np.number]).columns.tolist()\n",
        "categorical_features = X_train.select_dtypes(exclude=[np.number]).columns.tolist()\n",
        "\n",
        "numeric_transformer = Pipeline([\n",
        "    ('imputer', SimpleImputer(strategy='median')),\n",
        "    ('scaler', StandardScaler())\n",
        "])\n",
        "\n",
        "cat_transformer = Pipeline([\n",
        "    ('imputer', SimpleImputer(strategy='constant', fill_value='__missing__')),\n",
        "    ('onehot', OneHotEncoder(handle_unknown='ignore', sparse_output=False))\n",
        "])\n",
        "\n",
        "preprocessor = ColumnTransformer([\n",
        "    ('num', numeric_transformer, numeric_features),\n",
        "    ('cat', cat_transformer, categorical_features)\n",
        "], remainder='drop', sparse_threshold=0)"
      ]
    },
    {
      "cell_type": "code",
      "execution_count": 25,
      "metadata": {
        "id": "FHIjs4K35xzB"
      },
      "outputs": [],
      "source": [
        "def make_pipeline(model):\n",
        "    return Pipeline([('preproc', preprocessor), ('model', model)])"
      ]
    },
    {
      "cell_type": "code",
      "execution_count": 26,
      "metadata": {
        "id": "So9r2JiN52Xa"
      },
      "outputs": [],
      "source": [
        "# 6️⃣ Baseline models\n",
        "rf = RandomForestRegressor(n_estimators=200, max_depth=20, n_jobs=-1, random_state=42)\n",
        "hgb = HistGradientBoostingRegressor(max_iter=300, max_depth=12, random_state=42)\n",
        "\n",
        "models = {\n",
        "    \"RandomForest\": rf,\n",
        "    \"HistGradientBoosting\": hgb\n",
        "}"
      ]
    },
    {
      "cell_type": "code",
      "execution_count": 27,
      "metadata": {
        "id": "dd5jGpMG58Ad"
      },
      "outputs": [],
      "source": [
        "# 7️⃣ Train & evaluate\n",
        "results = {}\n",
        "trained_pipes = {}\n"
      ]
    },
    {
      "cell_type": "code",
      "execution_count": 29,
      "metadata": {
        "colab": {
          "base_uri": "https://localhost:8080/"
        },
        "id": "g-BNLjcR5-1W",
        "outputId": "9a627391-a414-4122-a14a-f44a1595e29e"
      },
      "outputs": [
        {
          "name": "stdout",
          "output_type": "stream",
          "text": [
            "\n",
            "🚀 Training RandomForest ...\n",
            "RandomForest → RMSE=0.4823, MAE=0.3138, R2=0.9659\n",
            "\n",
            "🚀 Training HistGradientBoosting ...\n",
            "HistGradientBoosting → RMSE=0.7203, MAE=0.5324, R2=0.9240\n"
          ]
        }
      ],
      "source": [
        "# initialize dictionaries before training\n",
        "for name, model in models.items():\n",
        "    print(f\"\\n🚀 Training {name} ...\")\n",
        "    pipe = make_pipeline(model)\n",
        "    pipe.fit(X_train, y_train)\n",
        "    y_pred = pipe.predict(X_test)\n",
        "\n",
        "    rmse = np.sqrt(mean_squared_error(y_test, y_pred))  # RMSE\n",
        "    mae = mean_absolute_error(y_test, y_pred)\n",
        "    r2 = r2_score(y_test, y_pred)\n",
        "\n",
        "    results[name] = {\"RMSE\": rmse, \"MAE\": mae, \"R2\": r2}\n",
        "    trained_pipes[name] = pipe\n",
        "    print(f\"{name} → RMSE={rmse:.4f}, MAE={mae:.4f}, R2={r2:.4f}\")\n"
      ]
    }
  ],
  "metadata": {
    "colab": {
      "provenance": []
    },
    "kernelspec": {
      "display_name": "Python 3",
      "name": "python3"
    },
    "language_info": {
      "name": "python"
    }
  },
  "nbformat": 4,
  "nbformat_minor": 0
}
